{
 "cells": [
  {
   "cell_type": "markdown",
   "id": "a5717e91",
   "metadata": {},
   "source": [
    "### 파일 열기 모드\n",
    "r : read, 파일을 처음부터 읽는다.  \n",
    "\n",
    "w : write, 파일을 처음부터 쓴다. 만약 파일이 없으면 새로 만든다. 그러나 기존 내용이 있는 경우 덮어 쓴다.  \n",
    "\n",
    "a : append, 기존의 파일 내용 뒤에 이어서 write 한다. 만약 파일이 없으면 새로 만든다.  \n",
    "\n",
    "r+ : 읽기와 쓰기 모드로 파일을 읽고 쓸 수 있다.  \n",
    "\n",
    "t : text, 텍스트 파일을 처리  \n",
    "\n",
    "b : binary, 이진 파일을 처리  "
   ]
  },
  {
   "cell_type": "code",
   "execution_count": 8,
   "id": "f952653a",
   "metadata": {},
   "outputs": [],
   "source": [
    "f = open(\"./test.txt\", \"r\")"
   ]
  },
  {
   "cell_type": "markdown",
   "id": "ceb8c84c",
   "metadata": {},
   "source": [
    "## read() & readline()"
   ]
  },
  {
   "cell_type": "code",
   "execution_count": 9,
   "id": "2202c0a3",
   "metadata": {},
   "outputs": [
    {
     "name": "stdout",
     "output_type": "stream",
     "text": [
      "Hello\n"
     ]
    }
   ],
   "source": [
    "s = f.read(5)\n",
    "print(s)"
   ]
  },
  {
   "cell_type": "code",
   "execution_count": 12,
   "id": "656cfeca",
   "metadata": {},
   "outputs": [
    {
     "name": "stdout",
     "output_type": "stream",
     "text": [
      "Hello, World!\n",
      "\n"
     ]
    }
   ],
   "source": [
    "f.seek(0)    # 파일의 맨 앞으로 커서 이동\n",
    "ss = f.readline()\n",
    "print(ss)"
   ]
  },
  {
   "cell_type": "code",
   "execution_count": 16,
   "id": "fc6184e7",
   "metadata": {},
   "outputs": [
    {
     "name": "stdout",
     "output_type": "stream",
     "text": [
      "Hello, World!\n",
      "\n",
      "Visual Studio\n",
      "\n",
      "Jupyter\n",
      "\n"
     ]
    }
   ],
   "source": [
    "f.seek(0)\n",
    "ss = f.readline()\n",
    "\n",
    "while ss != \"$\":\n",
    "    print(ss)\n",
    "    ss = f.readline()\n",
    "    \n",
    "f.close()"
   ]
  },
  {
   "cell_type": "markdown",
   "id": "8025b6e3",
   "metadata": {},
   "source": [
    "## write() & writeline()"
   ]
  },
  {
   "cell_type": "code",
   "execution_count": 14,
   "id": "11e3d89e",
   "metadata": {},
   "outputs": [],
   "source": [
    "f2 = open(\"test2.txt\", \"w\")\n",
    "f2.write(\"코드 안에서 파일 작성\\n\")\n",
    "f2.close()"
   ]
  },
  {
   "cell_type": "markdown",
   "id": "21fd7905",
   "metadata": {},
   "source": [
    "## 기존 파일 존재 여부 확인"
   ]
  },
  {
   "cell_type": "code",
   "execution_count": 19,
   "id": "315eb0d2",
   "metadata": {},
   "outputs": [
    {
     "name": "stdout",
     "output_type": "stream",
     "text": [
      "해당 파일이 이미 존재합니다.\n"
     ]
    }
   ],
   "source": [
    "import os.path\n",
    "\n",
    "f = open(\"test2.txt\", \"w\")\n",
    "\n",
    "if os.path.isfile(\"test2.txt\"):\n",
    "    print(\"해당 파일이 이미 존재합니다.\")\n",
    "else:\n",
    "    f.write(\"안녕하세요\\n\")\n",
    "    \n",
    "f.close()"
   ]
  },
  {
   "cell_type": "markdown",
   "id": "9903baad",
   "metadata": {},
   "source": [
    "## append"
   ]
  },
  {
   "cell_type": "code",
   "execution_count": 20,
   "id": "b6bec69c",
   "metadata": {},
   "outputs": [],
   "source": [
    "f = open(\"test2.txt\", \"a\")\n",
    "\n",
    "f.write(\"append을 이용해 추가\\n\")\n",
    "\n",
    "f.close()"
   ]
  },
  {
   "cell_type": "markdown",
   "id": "2fb0ec6f",
   "metadata": {},
   "source": [
    "## try, except"
   ]
  },
  {
   "cell_type": "code",
   "execution_count": 22,
   "id": "5fbe34b0",
   "metadata": {},
   "outputs": [
    {
     "name": "stdout",
     "output_type": "stream",
     "text": [
      "없는 파일입니다.\n",
      "\n"
     ]
    }
   ],
   "source": [
    "import os\n",
    "\n",
    "try:\n",
    "    os.remove(\"test3.txt\")    # 현재 이 파일은 없는 파일\n",
    "except:\n",
    "    print(\"없는 파일입니다.\\n\")"
   ]
  },
  {
   "cell_type": "code",
   "execution_count": null,
   "id": "eb8ade58",
   "metadata": {},
   "outputs": [],
   "source": []
  }
 ],
 "metadata": {
  "kernelspec": {
   "display_name": "Python 3 (ipykernel)",
   "language": "python",
   "name": "python3"
  },
  "language_info": {
   "codemirror_mode": {
    "name": "ipython",
    "version": 3
   },
   "file_extension": ".py",
   "mimetype": "text/x-python",
   "name": "python",
   "nbconvert_exporter": "python",
   "pygments_lexer": "ipython3",
   "version": "3.9.12"
  }
 },
 "nbformat": 4,
 "nbformat_minor": 5
}
