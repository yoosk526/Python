{
 "cells": [
  {
   "cell_type": "markdown",
   "id": "7789d0d6",
   "metadata": {},
   "source": [
    "# 반복문"
   ]
  },
  {
   "cell_type": "code",
   "execution_count": 1,
   "id": "0c90efef",
   "metadata": {},
   "outputs": [],
   "source": [
    "word_dict = {\"I\":0.3, \"like\":0.3, \"k-pop\": 0.4}"
   ]
  },
  {
   "cell_type": "code",
   "execution_count": 2,
   "id": "1c0119c6",
   "metadata": {},
   "outputs": [
    {
     "name": "stdout",
     "output_type": "stream",
     "text": [
      "I : 0.3\n",
      "like : 0.3\n",
      "k-pop : 0.4\n"
     ]
    }
   ],
   "source": [
    "for key, value in word_dict.items(): \n",
    "    print(\"%s : %3.1f\"%(key, value))"
   ]
  },
  {
   "cell_type": "markdown",
   "id": "3828adbe",
   "metadata": {},
   "source": [
    "### 연습문제 9-1"
   ]
  },
  {
   "cell_type": "code",
   "execution_count": 9,
   "id": "df17967f",
   "metadata": {},
   "outputs": [
    {
     "name": "stdout",
     "output_type": "stream",
     "text": [
      "검사할 문자열 : abc\n",
      "회문이 아닙니다\n",
      "origin : abc, text : cba\n"
     ]
    }
   ],
   "source": [
    "text = \"\"\n",
    "origin = input(\"검사할 문자열 : \")\n",
    "i = len(origin) - 1\n",
    "while 1:\n",
    "    if i < 0:\n",
    "        break\n",
    "    text = text + origin[i]\n",
    "    i -= 1\n",
    "\n",
    "if text == origin:\n",
    "    print(\"회문입니다\")\n",
    "else:\n",
    "    print(\"회문이 아닙니다\")\n",
    "\n",
    "print(\"origin : {}, text : {}\".format(origin, text))"
   ]
  },
  {
   "cell_type": "markdown",
   "id": "ecfeacb9",
   "metadata": {},
   "source": [
    "### 연습문제 9-2"
   ]
  },
  {
   "cell_type": "code",
   "execution_count": 10,
   "id": "d68d1cc9",
   "metadata": {},
   "outputs": [
    {
     "name": "stdout",
     "output_type": "stream",
     "text": [
      "0\n",
      "1\n",
      "2\n",
      "3\n"
     ]
    }
   ],
   "source": [
    "for num in range(4):\n",
    "    print(num)"
   ]
  },
  {
   "cell_type": "code",
   "execution_count": 11,
   "id": "af37cf7e",
   "metadata": {},
   "outputs": [
    {
     "name": "stdout",
     "output_type": "stream",
     "text": [
      "3\n",
      "4\n",
      "5\n"
     ]
    }
   ],
   "source": [
    "for num in range(3,6):\n",
    "    print(num)"
   ]
  },
  {
   "cell_type": "code",
   "execution_count": 12,
   "id": "ace83cae",
   "metadata": {},
   "outputs": [
    {
     "name": "stdout",
     "output_type": "stream",
     "text": [
      "3\n",
      "6\n",
      "9\n"
     ]
    }
   ],
   "source": [
    "for num in range(3,10,3):\n",
    "    print(num)"
   ]
  },
  {
   "cell_type": "markdown",
   "id": "18fa0bda",
   "metadata": {},
   "source": [
    "### 연습문제 9-3"
   ]
  },
  {
   "cell_type": "code",
   "execution_count": 13,
   "id": "d11fecc8",
   "metadata": {},
   "outputs": [
    {
     "name": "stdout",
     "output_type": "stream",
     "text": [
      "어묵: 500원\n",
      "떡볶이: 300원\n",
      "라면: 3000원\n"
     ]
    }
   ],
   "source": [
    "price = {\"어묵\" : \"500원\", \"떡볶이\" : \"300원\", \"라면\" : \"3000원\"}\n",
    "for i in price.keys():\n",
    "    print(\"{}: {}\".format(i, price[i]))"
   ]
  },
  {
   "cell_type": "code",
   "execution_count": 14,
   "id": "b7f636c3",
   "metadata": {},
   "outputs": [
    {
     "name": "stdout",
     "output_type": "stream",
     "text": [
      "어묵: 500원\n",
      "떡볶이: 300원\n",
      "라면: 3000원\n"
     ]
    }
   ],
   "source": [
    "for key, value in price.items():\n",
    "    print(\"{}: {}\".format(key, value))"
   ]
  },
  {
   "cell_type": "markdown",
   "id": "55fca3b3",
   "metadata": {},
   "source": [
    "### 연습문제 9-4"
   ]
  },
  {
   "cell_type": "code",
   "execution_count": 1,
   "id": "e34e86b5",
   "metadata": {},
   "outputs": [
    {
     "name": "stdout",
     "output_type": "stream",
     "text": [
      "1 * 1 = 1\n",
      "1 * 2 = 2\n",
      "1 * 3 = 3\n",
      "=====================\n",
      "2 * 1 = 2\n",
      "2 * 2 = 4\n",
      "2 * 3 = 6\n",
      "=====================\n",
      "3 * 1 = 3\n",
      "3 * 2 = 6\n",
      "3 * 3 = 9\n",
      "=====================\n"
     ]
    }
   ],
   "source": [
    "for i in range(1, 4):\n",
    "    for j in range(1, 4):\n",
    "        print(i, \"*\", j, \"=\", i * j)\n",
    "    print(\"=====================\")"
   ]
  }
 ],
 "metadata": {
  "kernelspec": {
   "display_name": "Python 3 (ipykernel)",
   "language": "python",
   "name": "python3"
  },
  "language_info": {
   "codemirror_mode": {
    "name": "ipython",
    "version": 3
   },
   "file_extension": ".py",
   "mimetype": "text/x-python",
   "name": "python",
   "nbconvert_exporter": "python",
   "pygments_lexer": "ipython3",
   "version": "3.9.12"
  }
 },
 "nbformat": 4,
 "nbformat_minor": 5
}
