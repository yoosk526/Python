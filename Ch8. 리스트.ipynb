{
 "cells": [
  {
   "cell_type": "markdown",
   "id": "e9defc61",
   "metadata": {},
   "source": [
    "# 리스트"
   ]
  },
  {
   "cell_type": "code",
   "execution_count": 1,
   "id": "4de313a5",
   "metadata": {},
   "outputs": [],
   "source": [
    "list = [12, 3.14, \"BTS\", [\"a\", 1, '가']]"
   ]
  },
  {
   "cell_type": "code",
   "execution_count": 2,
   "id": "4d3a1428",
   "metadata": {},
   "outputs": [
    {
     "data": {
      "text/plain": [
       "4"
      ]
     },
     "execution_count": 2,
     "metadata": {},
     "output_type": "execute_result"
    }
   ],
   "source": [
    "len(list) "
   ]
  },
  {
   "cell_type": "code",
   "execution_count": 3,
   "id": "3acaa171",
   "metadata": {},
   "outputs": [
    {
     "data": {
      "text/plain": [
       "['a', 1, '가']"
      ]
     },
     "execution_count": 3,
     "metadata": {},
     "output_type": "execute_result"
    }
   ],
   "source": [
    "list[3]"
   ]
  },
  {
   "cell_type": "code",
   "execution_count": 4,
   "id": "325bf0c9",
   "metadata": {},
   "outputs": [
    {
     "data": {
      "text/plain": [
       "'a'"
      ]
     },
     "execution_count": 4,
     "metadata": {},
     "output_type": "execute_result"
    }
   ],
   "source": [
    "list[3][0]"
   ]
  },
  {
   "cell_type": "code",
   "execution_count": 5,
   "id": "d2cb67cd",
   "metadata": {},
   "outputs": [
    {
     "data": {
      "text/plain": [
       "3"
      ]
     },
     "execution_count": 5,
     "metadata": {},
     "output_type": "execute_result"
    }
   ],
   "source": [
    "len(list[3])"
   ]
  },
  {
   "cell_type": "markdown",
   "id": "d8ea3318",
   "metadata": {},
   "source": [
    "### 리스트 원소 바꾸기"
   ]
  },
  {
   "cell_type": "code",
   "execution_count": 7,
   "id": "a961cec6",
   "metadata": {},
   "outputs": [
    {
     "data": {
      "text/plain": [
       "[8, 3.14, 'BTS', ['a', 1, '가']]"
      ]
     },
     "execution_count": 7,
     "metadata": {},
     "output_type": "execute_result"
    }
   ],
   "source": [
    "list[0] = 8\n",
    "list"
   ]
  },
  {
   "cell_type": "markdown",
   "id": "96221844",
   "metadata": {},
   "source": [
    "### 리스트 연산"
   ]
  },
  {
   "cell_type": "code",
   "execution_count": 8,
   "id": "c17e2042",
   "metadata": {},
   "outputs": [],
   "source": [
    "list_1 = ['a', 'b']\n",
    "list_2 = ['가', '나']"
   ]
  },
  {
   "cell_type": "code",
   "execution_count": 10,
   "id": "0162c61c",
   "metadata": {},
   "outputs": [
    {
     "data": {
      "text/plain": [
       "['a', 'b', '가', '나']"
      ]
     },
     "execution_count": 10,
     "metadata": {},
     "output_type": "execute_result"
    }
   ],
   "source": [
    "all_list = list_1 + list_2\n",
    "all_list"
   ]
  },
  {
   "cell_type": "code",
   "execution_count": 11,
   "id": "1fbf6496",
   "metadata": {},
   "outputs": [
    {
     "data": {
      "text/plain": [
       "['a', 'b', 'a', 'b', 'a', 'b']"
      ]
     },
     "execution_count": 11,
     "metadata": {},
     "output_type": "execute_result"
    }
   ],
   "source": [
    "list_1 * 3"
   ]
  },
  {
   "cell_type": "code",
   "execution_count": 12,
   "id": "cdffe086",
   "metadata": {},
   "outputs": [
    {
     "data": {
      "text/plain": [
       "False"
      ]
     },
     "execution_count": 12,
     "metadata": {},
     "output_type": "execute_result"
    }
   ],
   "source": [
    "'c' in list_1"
   ]
  },
  {
   "cell_type": "markdown",
   "id": "fb40312a",
   "metadata": {},
   "source": [
    "### 추가, 삭제, 정렬"
   ]
  },
  {
   "cell_type": "markdown",
   "id": "045b033a",
   "metadata": {},
   "source": [
    ".append() 함수 사용"
   ]
  },
  {
   "cell_type": "code",
   "execution_count": 13,
   "id": "f18a3112",
   "metadata": {},
   "outputs": [
    {
     "data": {
      "text/plain": [
       "['a', 'b', 'add']"
      ]
     },
     "execution_count": 13,
     "metadata": {},
     "output_type": "execute_result"
    }
   ],
   "source": [
    "list_1.append('add')\n",
    "list_1"
   ]
  },
  {
   "cell_type": "markdown",
   "id": "009c504b",
   "metadata": {},
   "source": [
    ".insert(추가할 원소 위치 인덱스, 추가할 내용)"
   ]
  },
  {
   "cell_type": "code",
   "execution_count": 14,
   "id": "0e03c671",
   "metadata": {},
   "outputs": [
    {
     "data": {
      "text/plain": [
       "['가', '추가', '나']"
      ]
     },
     "execution_count": 14,
     "metadata": {},
     "output_type": "execute_result"
    }
   ],
   "source": [
    "list_2.insert(1, \"추가\")\n",
    "list_2"
   ]
  },
  {
   "cell_type": "markdown",
   "id": "d3848b0a",
   "metadata": {},
   "source": [
    ".remove(삭제할 내용)"
   ]
  },
  {
   "cell_type": "code",
   "execution_count": 15,
   "id": "3fd906b5",
   "metadata": {},
   "outputs": [
    {
     "data": {
      "text/plain": [
       "['가', '나']"
      ]
     },
     "execution_count": 15,
     "metadata": {},
     "output_type": "execute_result"
    }
   ],
   "source": [
    "list_2.remove(\"추가\")\n",
    "list_2"
   ]
  },
  {
   "cell_type": "markdown",
   "id": "4e010ce2",
   "metadata": {},
   "source": [
    "중복된 경우 제일 앞의 원소만 사라짐"
   ]
  },
  {
   "cell_type": "code",
   "execution_count": 23,
   "id": "86cf7256",
   "metadata": {},
   "outputs": [
    {
     "data": {
      "text/plain": [
       "[1, 2, 3, 3, 3, 4]"
      ]
     },
     "execution_count": 23,
     "metadata": {},
     "output_type": "execute_result"
    }
   ],
   "source": [
    "num = [1, 2, 3, 3, 3, 3, 4]\n",
    "num.remove(3)\n",
    "num"
   ]
  },
  {
   "cell_type": "markdown",
   "id": "6c9a5aa9",
   "metadata": {},
   "source": [
    ".pop(삭제할 원소 인덱스)"
   ]
  },
  {
   "cell_type": "code",
   "execution_count": 26,
   "id": "06f147dd",
   "metadata": {},
   "outputs": [
    {
     "data": {
      "text/plain": [
       "3"
      ]
     },
     "execution_count": 26,
     "metadata": {},
     "output_type": "execute_result"
    }
   ],
   "source": [
    "num.pop(-1)    # 삭제한 원소 출력함. 기본적으로는 제일 마지막 원소 pop"
   ]
  },
  {
   "cell_type": "code",
   "execution_count": 27,
   "id": "b050ad49",
   "metadata": {},
   "outputs": [
    {
     "data": {
      "text/plain": [
       "[1, 2, 3, 3]"
      ]
     },
     "execution_count": 27,
     "metadata": {},
     "output_type": "execute_result"
    }
   ],
   "source": [
    "num"
   ]
  },
  {
   "cell_type": "markdown",
   "id": "935ed6f3",
   "metadata": {},
   "source": [
    "### 리스트 검색"
   ]
  },
  {
   "cell_type": "code",
   "execution_count": 28,
   "id": "e2376b5a",
   "metadata": {},
   "outputs": [
    {
     "data": {
      "text/plain": [
       "[8, 3.14, 'BTS', ['a', 1, '가']]"
      ]
     },
     "execution_count": 28,
     "metadata": {},
     "output_type": "execute_result"
    }
   ],
   "source": [
    "list"
   ]
  },
  {
   "cell_type": "code",
   "execution_count": 29,
   "id": "5d4eade1",
   "metadata": {},
   "outputs": [
    {
     "data": {
      "text/plain": [
       "2"
      ]
     },
     "execution_count": 29,
     "metadata": {},
     "output_type": "execute_result"
    }
   ],
   "source": [
    "list.index('BTS')"
   ]
  }
 ],
 "metadata": {
  "kernelspec": {
   "display_name": "Python 3 (ipykernel)",
   "language": "python",
   "name": "python3"
  },
  "language_info": {
   "codemirror_mode": {
    "name": "ipython",
    "version": 3
   },
   "file_extension": ".py",
   "mimetype": "text/x-python",
   "name": "python",
   "nbconvert_exporter": "python",
   "pygments_lexer": "ipython3",
   "version": "3.9.12"
  }
 },
 "nbformat": 4,
 "nbformat_minor": 5
}
