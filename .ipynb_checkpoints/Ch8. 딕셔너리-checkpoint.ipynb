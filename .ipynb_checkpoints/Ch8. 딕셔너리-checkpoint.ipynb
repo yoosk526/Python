{
 "cells": [
  {
   "cell_type": "markdown",
   "id": "9d3183b1",
   "metadata": {},
   "source": [
    "# Dictionary\n",
    "key : value"
   ]
  },
  {
   "cell_type": "code",
   "execution_count": 1,
   "id": "e9131418",
   "metadata": {},
   "outputs": [
    {
     "name": "stdout",
     "output_type": "stream",
     "text": [
      "{'west': 'steak', 'korea': 'kimchi', 'japan': 'susi'} <class 'dict'>\n"
     ]
    }
   ],
   "source": [
    "food = {'west' : 'steak', 'korea' : 'kimchi', 'japan' : 'susi'}\n",
    "print(food, type(food))"
   ]
  },
  {
   "cell_type": "code",
   "execution_count": 2,
   "id": "ca65e344",
   "metadata": {},
   "outputs": [
    {
     "data": {
      "text/plain": [
       "'kimchi'"
      ]
     },
     "execution_count": 2,
     "metadata": {},
     "output_type": "execute_result"
    }
   ],
   "source": [
    "food['korea']"
   ]
  },
  {
   "cell_type": "markdown",
   "id": "f1c4484c",
   "metadata": {},
   "source": [
    "### key  출력"
   ]
  },
  {
   "cell_type": "code",
   "execution_count": 3,
   "id": "334027d3",
   "metadata": {},
   "outputs": [
    {
     "data": {
      "text/plain": [
       "dict_keys(['west', 'korea', 'japan'])"
      ]
     },
     "execution_count": 3,
     "metadata": {},
     "output_type": "execute_result"
    }
   ],
   "source": [
    "food.keys()"
   ]
  },
  {
   "cell_type": "markdown",
   "id": "2030d64c",
   "metadata": {},
   "source": [
    "### value 출력"
   ]
  },
  {
   "cell_type": "code",
   "execution_count": 4,
   "id": "8dcd221f",
   "metadata": {},
   "outputs": [
    {
     "data": {
      "text/plain": [
       "dict_values(['steak', 'kimchi', 'susi'])"
      ]
     },
     "execution_count": 4,
     "metadata": {},
     "output_type": "execute_result"
    }
   ],
   "source": [
    "food.values()"
   ]
  },
  {
   "cell_type": "markdown",
   "id": "d652a156",
   "metadata": {},
   "source": [
    "### key 와 value 를 튜플로 묶어서 출력"
   ]
  },
  {
   "cell_type": "code",
   "execution_count": 7,
   "id": "5130ba0a",
   "metadata": {},
   "outputs": [
    {
     "name": "stdout",
     "output_type": "stream",
     "text": [
      "dict_items([('west', 'steak'), ('korea', 'kimchi'), ('japan', 'susi')]) <class 'dict_items'>\n"
     ]
    }
   ],
   "source": [
    "tu = food.items()\n",
    "print(tu, type(tu))"
   ]
  },
  {
   "cell_type": "markdown",
   "id": "194d111f",
   "metadata": {},
   "source": [
    "### 딕셔너리에 여러 데이터 Update"
   ]
  },
  {
   "cell_type": "markdown",
   "id": "dbad5098",
   "metadata": {},
   "source": [
    ".update(변경할 key : 변경할 value)"
   ]
  },
  {
   "cell_type": "code",
   "execution_count": 9,
   "id": "fc389d33",
   "metadata": {},
   "outputs": [
    {
     "data": {
      "text/plain": [
       "{'west': 'chop', 'korea': 'rice', 'japan': 'susi'}"
      ]
     },
     "execution_count": 9,
     "metadata": {},
     "output_type": "execute_result"
    }
   ],
   "source": [
    "food.update({'korea' : 'rice', 'west' : 'chop'})\n",
    "food"
   ]
  },
  {
   "cell_type": "markdown",
   "id": "acce9ae2",
   "metadata": {},
   "source": [
    "### 추가, 삭제"
   ]
  },
  {
   "cell_type": "code",
   "execution_count": 11,
   "id": "ac9e9ee5",
   "metadata": {},
   "outputs": [
    {
     "data": {
      "text/plain": [
       "{'west': 'chop', 'korea': 'rice', 'japan': 'susi', 'china': '짜장'}"
      ]
     },
     "execution_count": 11,
     "metadata": {},
     "output_type": "execute_result"
    }
   ],
   "source": [
    "food['china'] = '짜장'\n",
    "food"
   ]
  },
  {
   "cell_type": "code",
   "execution_count": 12,
   "id": "4ee6c70c",
   "metadata": {},
   "outputs": [
    {
     "data": {
      "text/plain": [
       "{'west': 'chop', 'korea': 'rice', 'japan': 'susi'}"
      ]
     },
     "execution_count": 12,
     "metadata": {},
     "output_type": "execute_result"
    }
   ],
   "source": [
    "del food['china']\n",
    "food"
   ]
  },
  {
   "cell_type": "markdown",
   "id": "0d3b532e",
   "metadata": {},
   "source": [
    "### key 변경 불가능"
   ]
  },
  {
   "cell_type": "code",
   "execution_count": 16,
   "id": "2a858a1a",
   "metadata": {},
   "outputs": [
    {
     "ename": "TypeError",
     "evalue": "unhashable type: 'list'",
     "output_type": "error",
     "traceback": [
      "\u001b[1;31m---------------------------------------------------------------------------\u001b[0m",
      "\u001b[1;31mTypeError\u001b[0m                                 Traceback (most recent call last)",
      "Input \u001b[1;32mIn [16]\u001b[0m, in \u001b[0;36m<cell line: 1>\u001b[1;34m()\u001b[0m\n\u001b[1;32m----> 1\u001b[0m my_dic \u001b[38;5;241m=\u001b[39m {[\u001b[38;5;124m'\u001b[39m\u001b[38;5;124ma\u001b[39m\u001b[38;5;124m'\u001b[39m, \u001b[38;5;124m'\u001b[39m\u001b[38;5;124mb\u001b[39m\u001b[38;5;124m'\u001b[39m] : \u001b[38;5;124m\"\u001b[39m\u001b[38;5;124m문자열\u001b[39m\u001b[38;5;124m\"\u001b[39m}\n",
      "\u001b[1;31mTypeError\u001b[0m: unhashable type: 'list'"
     ]
    }
   ],
   "source": [
    "my_dic = {['a', 'b'] : \"문자열\"}    # 리스트는 원소를 변경할 수 있음."
   ]
  },
  {
   "cell_type": "markdown",
   "id": "a5f6538b",
   "metadata": {},
   "source": [
    "### 같은 key 가 2개 이상 있는 경우\n",
    "맨 마지막에 저장한 것이 출력"
   ]
  },
  {
   "cell_type": "code",
   "execution_count": 17,
   "id": "715ede18",
   "metadata": {},
   "outputs": [
    {
     "data": {
      "text/plain": [
       "{1: 'one', 2: '둘'}"
      ]
     },
     "execution_count": 17,
     "metadata": {},
     "output_type": "execute_result"
    }
   ],
   "source": [
    "dic = {1: 'one', 2: 'two', 2: '둘'}\n",
    "dic"
   ]
  }
 ],
 "metadata": {
  "kernelspec": {
   "display_name": "Python 3 (ipykernel)",
   "language": "python",
   "name": "python3"
  },
  "language_info": {
   "codemirror_mode": {
    "name": "ipython",
    "version": 3
   },
   "file_extension": ".py",
   "mimetype": "text/x-python",
   "name": "python",
   "nbconvert_exporter": "python",
   "pygments_lexer": "ipython3",
   "version": "3.9.12"
  }
 },
 "nbformat": 4,
 "nbformat_minor": 5
}
