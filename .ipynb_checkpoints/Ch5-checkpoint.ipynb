{
 "cells": [
  {
   "cell_type": "markdown",
   "id": "8661e7df",
   "metadata": {},
   "source": [
    "# 변수"
   ]
  },
  {
   "cell_type": "code",
   "execution_count": 1,
   "id": "a642f910",
   "metadata": {},
   "outputs": [
    {
     "data": {
      "text/plain": [
       "'Hi'"
      ]
     },
     "execution_count": 1,
     "metadata": {},
     "output_type": "execute_result"
    }
   ],
   "source": [
    "a = \"Hi\"\n",
    "a"
   ]
  },
  {
   "cell_type": "code",
   "execution_count": 2,
   "id": "f3d33a1d",
   "metadata": {},
   "outputs": [
    {
     "data": {
      "text/plain": [
       "2144373163888"
      ]
     },
     "execution_count": 2,
     "metadata": {},
     "output_type": "execute_result"
    }
   ],
   "source": [
    "id(a)    # 변수의 실제 메모리 주소"
   ]
  },
  {
   "cell_type": "code",
   "execution_count": 3,
   "id": "88350117",
   "metadata": {},
   "outputs": [],
   "source": [
    "del a    # 변수 삭제"
   ]
  },
  {
   "cell_type": "code",
   "execution_count": 4,
   "id": "12125036",
   "metadata": {},
   "outputs": [
    {
     "ename": "NameError",
     "evalue": "name 'a' is not defined",
     "output_type": "error",
     "traceback": [
      "\u001b[1;31m---------------------------------------------------------------------------\u001b[0m",
      "\u001b[1;31mNameError\u001b[0m                                 Traceback (most recent call last)",
      "Input \u001b[1;32mIn [4]\u001b[0m, in \u001b[0;36m<cell line: 1>\u001b[1;34m()\u001b[0m\n\u001b[1;32m----> 1\u001b[0m \u001b[43ma\u001b[49m\n",
      "\u001b[1;31mNameError\u001b[0m: name 'a' is not defined"
     ]
    }
   ],
   "source": [
    "a"
   ]
  },
  {
   "cell_type": "markdown",
   "id": "194b9b85",
   "metadata": {},
   "source": [
    "# 데이터 타입"
   ]
  },
  {
   "cell_type": "code",
   "execution_count": 5,
   "id": "306ade8a",
   "metadata": {},
   "outputs": [
    {
     "data": {
      "text/plain": [
       "int"
      ]
     },
     "execution_count": 5,
     "metadata": {},
     "output_type": "execute_result"
    }
   ],
   "source": [
    "a = 3\n",
    "type(a)    # 데이터 타입 확인"
   ]
  },
  {
   "cell_type": "markdown",
   "id": "e42c1847",
   "metadata": {},
   "source": [
    "### list\n",
    "순서가 있는 데이터 집합"
   ]
  },
  {
   "cell_type": "code",
   "execution_count": 11,
   "id": "9ba1d7c3",
   "metadata": {},
   "outputs": [
    {
     "name": "stdout",
     "output_type": "stream",
     "text": [
      "[1, 2, 3, 4] <class 'list'>\n"
     ]
    }
   ],
   "source": [
    "b = [1, 2, 3, 4]\n",
    "print(b, type(b))"
   ]
  },
  {
   "cell_type": "markdown",
   "id": "b1598396",
   "metadata": {},
   "source": [
    "### dictionary\n",
    "key와 value로 이루어진 데이터 집합"
   ]
  },
  {
   "cell_type": "code",
   "execution_count": 9,
   "id": "06ef9048",
   "metadata": {},
   "outputs": [
    {
     "name": "stdout",
     "output_type": "stream",
     "text": [
      "{'삼성': 'galaxy', '애플': 'iphone'} <class 'dict'>\n"
     ]
    }
   ],
   "source": [
    "c = {'삼성' : 'galaxy', '애플' : 'iphone'}\n",
    "print(c, type(c))"
   ]
  },
  {
   "cell_type": "markdown",
   "id": "a0b953e7",
   "metadata": {},
   "source": [
    "### tuple\n",
    "수정할 수 없는 데이터 집합"
   ]
  },
  {
   "cell_type": "code",
   "execution_count": 16,
   "id": "8386a945",
   "metadata": {},
   "outputs": [
    {
     "name": "stdout",
     "output_type": "stream",
     "text": [
      "(1, 2, 3, 4) <class 'tuple'>\n"
     ]
    }
   ],
   "source": [
    "d = (1, 2, 3, 4)\n",
    "print(d, type(d))"
   ]
  },
  {
   "cell_type": "markdown",
   "id": "dbe4084b",
   "metadata": {},
   "source": [
    "### set\n",
    "중복을 허용하지 않는 데이터 집합"
   ]
  },
  {
   "cell_type": "code",
   "execution_count": 14,
   "id": "27998a28",
   "metadata": {},
   "outputs": [
    {
     "name": "stdout",
     "output_type": "stream",
     "text": [
      "{1, 2, 3} <class 'set'>\n"
     ]
    }
   ],
   "source": [
    "e = {3, 2, 3, 2, 1, 1}\n",
    "print(e, type(e))"
   ]
  },
  {
   "cell_type": "markdown",
   "id": "0f7f97f6",
   "metadata": {},
   "source": [
    "# 출력"
   ]
  },
  {
   "cell_type": "code",
   "execution_count": 17,
   "id": "7e5295e9",
   "metadata": {},
   "outputs": [
    {
     "name": "stdout",
     "output_type": "stream",
     "text": [
      "HelloWorld\n"
     ]
    }
   ],
   "source": [
    "print(\"Hello\" + \"World\")"
   ]
  },
  {
   "cell_type": "code",
   "execution_count": 18,
   "id": "c94f5eff",
   "metadata": {},
   "outputs": [
    {
     "name": "stdout",
     "output_type": "stream",
     "text": [
      "HelloWorld\n"
     ]
    }
   ],
   "source": [
    "print(\"Hello\", end=\"\")\n",
    "print(\"World\")"
   ]
  },
  {
   "cell_type": "code",
   "execution_count": 23,
   "id": "99df746a",
   "metadata": {},
   "outputs": [
    {
     "name": "stdout",
     "output_type": "stream",
     "text": [
      "수학 : 10, 과학 : 20\n"
     ]
    }
   ],
   "source": [
    "a, b = 10, 20\n",
    "print(\"수학 : %02d, 과학 : %d\"%(a, b))"
   ]
  },
  {
   "cell_type": "markdown",
   "id": "dc63a004",
   "metadata": {},
   "source": [
    "### format 방식"
   ]
  },
  {
   "cell_type": "code",
   "execution_count": 21,
   "id": "751d2196",
   "metadata": {},
   "outputs": [
    {
     "name": "stdout",
     "output_type": "stream",
     "text": [
      "수학 : 10, 과학 : 20\n",
      "수학 : 20, 과학 : 10\n"
     ]
    }
   ],
   "source": [
    "print(\"수학 : {}, 과학 : {}\".format(a, b))\n",
    "print(\"수학 : {1}, 과학 : {0}\".format(a, b))"
   ]
  },
  {
   "cell_type": "markdown",
   "id": "db58a428",
   "metadata": {},
   "source": [
    "### f-string format 방식"
   ]
  },
  {
   "cell_type": "code",
   "execution_count": 22,
   "id": "8b2db861",
   "metadata": {},
   "outputs": [
    {
     "name": "stdout",
     "output_type": "stream",
     "text": [
      "수학 : 10, 과학 : 20\n"
     ]
    }
   ],
   "source": [
    "print(f\"수학 : {a}, 과학 : {b}\")"
   ]
  }
 ],
 "metadata": {
  "kernelspec": {
   "display_name": "Python 3 (ipykernel)",
   "language": "python",
   "name": "python3"
  },
  "language_info": {
   "codemirror_mode": {
    "name": "ipython",
    "version": 3
   },
   "file_extension": ".py",
   "mimetype": "text/x-python",
   "name": "python",
   "nbconvert_exporter": "python",
   "pygments_lexer": "ipython3",
   "version": "3.9.12"
  }
 },
 "nbformat": 4,
 "nbformat_minor": 5
}
