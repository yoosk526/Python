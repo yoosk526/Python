{
 "cells": [
  {
   "cell_type": "markdown",
   "id": "f0d4af9e",
   "metadata": {},
   "source": [
    "# 튜플\n",
    "리스트처럼 여러 자료를 담을 수 있으나 튜플 원소의 값들을 추가, 수정, 삭제를 직접적으로 할 수 없다."
   ]
  },
  {
   "cell_type": "code",
   "execution_count": 7,
   "id": "1196fa2a",
   "metadata": {},
   "outputs": [
    {
     "data": {
      "text/plain": [
       "(('james', 'nick', 'choi', 'jung', 'yoo'), (1, 2, 3))"
      ]
     },
     "execution_count": 7,
     "metadata": {},
     "output_type": "execute_result"
    }
   ],
   "source": [
    "name = ('james', 'nick', 'choi', 'jung', 'yoo')\n",
    "num = (1, 2, 3)\n",
    "name, num"
   ]
  },
  {
   "cell_type": "code",
   "execution_count": 4,
   "id": "d2bc06cf",
   "metadata": {},
   "outputs": [
    {
     "data": {
      "text/plain": [
       "('nick', 'choi')"
      ]
     },
     "execution_count": 4,
     "metadata": {},
     "output_type": "execute_result"
    }
   ],
   "source": [
    "name[1:3]"
   ]
  },
  {
   "cell_type": "code",
   "execution_count": 5,
   "id": "39634026",
   "metadata": {},
   "outputs": [
    {
     "ename": "TypeError",
     "evalue": "'tuple' object does not support item assignment",
     "output_type": "error",
     "traceback": [
      "\u001b[1;31m---------------------------------------------------------------------------\u001b[0m",
      "\u001b[1;31mTypeError\u001b[0m                                 Traceback (most recent call last)",
      "Input \u001b[1;32mIn [5]\u001b[0m, in \u001b[0;36m<cell line: 1>\u001b[1;34m()\u001b[0m\n\u001b[1;32m----> 1\u001b[0m name[\u001b[38;5;241m2\u001b[39m] \u001b[38;5;241m=\u001b[39m \u001b[38;5;124m'\u001b[39m\u001b[38;5;124mkim\u001b[39m\u001b[38;5;124m'\u001b[39m\n",
      "\u001b[1;31mTypeError\u001b[0m: 'tuple' object does not support item assignment"
     ]
    }
   ],
   "source": [
    "name[2] = 'kim'"
   ]
  },
  {
   "cell_type": "code",
   "execution_count": 8,
   "id": "ae4261a6",
   "metadata": {},
   "outputs": [
    {
     "name": "stdout",
     "output_type": "stream",
     "text": [
      "('james', 'nick', 'choi', 'jung', 'yoo', 1, 2, 3)\n",
      "(1, 2, 3, 1, 2, 3)\n"
     ]
    }
   ],
   "source": [
    "print(name + num)\n",
    "print(num * 2)"
   ]
  },
  {
   "cell_type": "markdown",
   "id": "c44c11ea",
   "metadata": {},
   "source": [
    "### 튜플을 리스트로 변경"
   ]
  },
  {
   "cell_type": "code",
   "execution_count": 9,
   "id": "6218fa65",
   "metadata": {},
   "outputs": [
    {
     "name": "stdout",
     "output_type": "stream",
     "text": [
      "['james', 'nick', 'choi', 'jung', 'yoo'] <class 'list'>\n"
     ]
    }
   ],
   "source": [
    "a = list(name)\n",
    "print(a, type(a))"
   ]
  }
 ],
 "metadata": {
  "kernelspec": {
   "display_name": "Python 3 (ipykernel)",
   "language": "python",
   "name": "python3"
  },
  "language_info": {
   "codemirror_mode": {
    "name": "ipython",
    "version": 3
   },
   "file_extension": ".py",
   "mimetype": "text/x-python",
   "name": "python",
   "nbconvert_exporter": "python",
   "pygments_lexer": "ipython3",
   "version": "3.9.12"
  }
 },
 "nbformat": 4,
 "nbformat_minor": 5
}
