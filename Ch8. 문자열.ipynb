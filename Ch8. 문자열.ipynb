{
 "cells": [
  {
   "cell_type": "markdown",
   "id": "4542599d",
   "metadata": {},
   "source": [
    "# 문자열"
   ]
  },
  {
   "cell_type": "code",
   "execution_count": 1,
   "id": "0d76667e",
   "metadata": {},
   "outputs": [
    {
     "name": "stdout",
     "output_type": "stream",
     "text": [
      "문자열 속에 \"큰 따옴표\" 출력\n",
      "문자열 속에 \"큰 따옴표\" 출력\n"
     ]
    }
   ],
   "source": [
    "print('문자열 속에 \"큰 따옴표\" 출력')   \n",
    "print(\"문자열 속에 \\\"큰 따옴표\\\" 출력\")     # 역 슬래쉬를 이용한 방법"
   ]
  },
  {
   "cell_type": "code",
   "execution_count": 2,
   "id": "89b5f122",
   "metadata": {},
   "outputs": [
    {
     "name": "stdout",
     "output_type": "stream",
     "text": [
      "문자열 속에 '작은 따옴표' 출력\n",
      "문자열 속에 '작은 따옴표' 출력\n"
     ]
    }
   ],
   "source": [
    "print(\"문자열 속에 '작은 따옴표' 출력\")     \n",
    "print(\"문자열 속에 \\'작은 따옴표\\' 출력\")   # 역 슬래쉬를 이용한 방법 "
   ]
  },
  {
   "cell_type": "code",
   "execution_count": 3,
   "id": "06271e0d",
   "metadata": {},
   "outputs": [
    {
     "name": "stdout",
     "output_type": "stream",
     "text": [
      "백 슬래쉬 자체 \\ 출력\n"
     ]
    }
   ],
   "source": [
    "print(\"백 슬래쉬 자체 \\\\ 출력\")"
   ]
  },
  {
   "cell_type": "markdown",
   "id": "9dd6fbf6",
   "metadata": {},
   "source": [
    "### 여러 줄의 문자열 출력\n",
    "연속으로 3개의 큰 따옴표 or 작은 따옴표 사용"
   ]
  },
  {
   "cell_type": "code",
   "execution_count": 4,
   "id": "61cd4d8b",
   "metadata": {},
   "outputs": [
    {
     "name": "stdout",
     "output_type": "stream",
     "text": [
      "Hello, World!\n",
      "My name is Yoo.\n",
      "What's your name?\n",
      "\n"
     ]
    }
   ],
   "source": [
    "print(\"\"\"Hello, World!\n",
    "My name is Yoo.\n",
    "What's your name?\\n\"\"\")"
   ]
  },
  {
   "cell_type": "markdown",
   "id": "66ed707e",
   "metadata": {},
   "source": [
    "### 문자열 인덱스\n",
    "[ 0]  [ 1]  [ 2]  [ 3]  [ 4]  [ 5]  \n",
    "[-6]  [-5]  [-4]  [-3]  [-2]  [-1]"
   ]
  },
  {
   "cell_type": "code",
   "execution_count": 5,
   "id": "b5bc6fe7",
   "metadata": {},
   "outputs": [],
   "source": [
    "word = \"abcdef\""
   ]
  },
  {
   "cell_type": "code",
   "execution_count": 6,
   "id": "a001b2b0",
   "metadata": {},
   "outputs": [
    {
     "data": {
      "text/plain": [
       "'ab'"
      ]
     },
     "execution_count": 6,
     "metadata": {},
     "output_type": "execute_result"
    }
   ],
   "source": [
    "word[-6:-4]"
   ]
  },
  {
   "cell_type": "markdown",
   "id": "fb32b68f",
   "metadata": {},
   "source": [
    "### 문자열 재정의\n",
    "문자열은 한 번 정의가 되면 정의된 문자열은 변경 불가능"
   ]
  },
  {
   "cell_type": "code",
   "execution_count": 7,
   "id": "4a4daa3b",
   "metadata": {},
   "outputs": [
    {
     "ename": "TypeError",
     "evalue": "'str' object does not support item assignment",
     "output_type": "error",
     "traceback": [
      "\u001b[1;31m---------------------------------------------------------------------------\u001b[0m",
      "\u001b[1;31mTypeError\u001b[0m                                 Traceback (most recent call last)",
      "Input \u001b[1;32mIn [7]\u001b[0m, in \u001b[0;36m<cell line: 1>\u001b[1;34m()\u001b[0m\n\u001b[1;32m----> 1\u001b[0m word[\u001b[38;5;241m2\u001b[39m] \u001b[38;5;241m=\u001b[39m \u001b[38;5;124m'\u001b[39m\u001b[38;5;124mg\u001b[39m\u001b[38;5;124m'\u001b[39m\n",
      "\u001b[1;31mTypeError\u001b[0m: 'str' object does not support item assignment"
     ]
    }
   ],
   "source": [
    "word[2] = 'g'"
   ]
  },
  {
   "cell_type": "markdown",
   "id": "b5e583fe",
   "metadata": {},
   "source": [
    ".repalce() 함수 사용"
   ]
  },
  {
   "cell_type": "code",
   "execution_count": 8,
   "id": "cab81afa",
   "metadata": {},
   "outputs": [
    {
     "data": {
      "text/plain": [
       "'agcdef'"
      ]
     },
     "execution_count": 8,
     "metadata": {},
     "output_type": "execute_result"
    }
   ],
   "source": [
    "word.replace('b', 'g')"
   ]
  },
  {
   "cell_type": "markdown",
   "id": "507b51fe",
   "metadata": {},
   "source": [
    "### 문자열 연산자"
   ]
  },
  {
   "cell_type": "code",
   "execution_count": 9,
   "id": "9e7ec029",
   "metadata": {},
   "outputs": [],
   "source": [
    "a = \"apple\"\n",
    "b = \"banana\""
   ]
  },
  {
   "cell_type": "code",
   "execution_count": 10,
   "id": "c5206be3",
   "metadata": {},
   "outputs": [
    {
     "name": "stdout",
     "output_type": "stream",
     "text": [
      "applebanana\n",
      "appleapple\n"
     ]
    }
   ],
   "source": [
    "print(a + b)\n",
    "print(a*2)"
   ]
  },
  {
   "cell_type": "code",
   "execution_count": 11,
   "id": "bc254d3a",
   "metadata": {},
   "outputs": [
    {
     "name": "stdout",
     "output_type": "stream",
     "text": [
      "True\n",
      "True\n"
     ]
    }
   ],
   "source": [
    "print('p' in a)\n",
    "print('na' in b)"
   ]
  },
  {
   "cell_type": "markdown",
   "id": "8bb1b4e3",
   "metadata": {},
   "source": [
    "### 문자열 나누기\n",
    ".split() 함수 사용"
   ]
  },
  {
   "cell_type": "code",
   "execution_count": 12,
   "id": "49a9ee0f",
   "metadata": {},
   "outputs": [
    {
     "data": {
      "text/plain": [
       "['I', 'like', 'python,', 'and', 'you?']"
      ]
     },
     "execution_count": 12,
     "metadata": {},
     "output_type": "execute_result"
    }
   ],
   "source": [
    "str = \"I like python, and you?\"\n",
    "str.split()   # 기본 = 공백 기준"
   ]
  },
  {
   "cell_type": "code",
   "execution_count": 13,
   "id": "d4ed2bd3",
   "metadata": {},
   "outputs": [
    {
     "data": {
      "text/plain": [
       "['I like python', ' and you?']"
      ]
     },
     "execution_count": 13,
     "metadata": {},
     "output_type": "execute_result"
    }
   ],
   "source": [
    "str.split(',')    # 문자 ',' 기준으로 나누기"
   ]
  },
  {
   "cell_type": "markdown",
   "id": "b3f75e38",
   "metadata": {},
   "source": [
    "### 문자 개수 확인\n",
    ".count(찾을 문자, 시작 Index, 끝 Index)"
   ]
  },
  {
   "cell_type": "code",
   "execution_count": 14,
   "id": "22b55d99",
   "metadata": {},
   "outputs": [
    {
     "data": {
      "text/plain": [
       "2"
      ]
     },
     "execution_count": 14,
     "metadata": {},
     "output_type": "execute_result"
    }
   ],
   "source": [
    "str.count('n')"
   ]
  },
  {
   "cell_type": "markdown",
   "id": "9a1b3bc9",
   "metadata": {},
   "source": [
    "### 문자 찾기\n",
    ".find(찾을 문자, 시작 Index, 끝 Index)"
   ]
  },
  {
   "cell_type": "code",
   "execution_count": 15,
   "id": "052ed48e",
   "metadata": {},
   "outputs": [
    {
     "data": {
      "text/plain": [
       "4"
      ]
     },
     "execution_count": 15,
     "metadata": {},
     "output_type": "execute_result"
    }
   ],
   "source": [
    "str.find('k')"
   ]
  }
 ],
 "metadata": {
  "kernelspec": {
   "display_name": "Python 3 (ipykernel)",
   "language": "python",
   "name": "python3"
  },
  "language_info": {
   "codemirror_mode": {
    "name": "ipython",
    "version": 3
   },
   "file_extension": ".py",
   "mimetype": "text/x-python",
   "name": "python",
   "nbconvert_exporter": "python",
   "pygments_lexer": "ipython3",
   "version": "3.9.12"
  }
 },
 "nbformat": 4,
 "nbformat_minor": 5
}
