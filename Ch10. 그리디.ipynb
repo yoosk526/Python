{
 "cells": [
  {
   "cell_type": "markdown",
   "id": "e34c3d37",
   "metadata": {},
   "source": [
    "여러 가지 상황에서 하나를 선택해야 할 때 단순히 그 순간 좋아보이는 방법을 찾아주어  \n",
    "그 방법(or 값)을 선택하면서 계속 진행을 반복해 최종적으로 정답을 도달하는 방식"
   ]
  },
  {
   "cell_type": "markdown",
   "id": "6cd9b6a5",
   "metadata": {},
   "source": [
    "### Ex 10.1 거스름돈 문제"
   ]
  },
  {
   "cell_type": "code",
   "execution_count": null,
   "id": "1d3b47aa",
   "metadata": {},
   "outputs": [],
   "source": [
    "coin = int(input(\"Input price : \"))\n",
    "\n",
    "coin_list = [500, 100, 50, 1]\n",
    "print(\"거스름돈 종류 : \", coin_list)\n",
    "total_coin_count = 0\n",
    "detail = []\n",
    "value = coin\n",
    "\n",
    "for coin in coin_list:\n",
    "    coin_num = value // coin\n",
    "    total_coin_count += coin_num\n",
    "    value = value - (coin_num * coin)\n",
    "    detail.append([coin, coin_num])\n",
    "    \n",
    "print(total_coin_count, detail)\n",
    "    "
   ]
  },
  {
   "cell_type": "markdown",
   "id": "bf0e5947",
   "metadata": {},
   "source": [
    "# 결정 트리 학습법"
   ]
  },
  {
   "cell_type": "markdown",
   "id": "faf72374",
   "metadata": {},
   "source": [
    "전체 항목에 대한 데이터를 가지고 분류하거나 예측을 통해 새로운 모델로 나타내는데 사용하는 예측 모델링 방법의 하나  \n",
    "= 스무고개 놀이"
   ]
  },
  {
   "cell_type": "markdown",
   "id": "feeed6fa",
   "metadata": {},
   "source": [
    "여러 단계를 거치면서 불필요한 요소가 줄어들게 되는데 이를 위해서는 불순도, 엔트로피, 그리고 지니계수(불순도 지표)가 필요"
   ]
  },
  {
   "cell_type": "markdown",
   "id": "87bd464c",
   "metadata": {},
   "source": [
    "### 불순도\n",
    "해당 범위 안에서 서로 다른 데이터. 즉, 불필요한 요소가 얼마나 섞여 있는지를 나타내는 정도  \n",
    "### 엔트로피 Entropy\n",
    "확률적으로 불확실성을 수치적으로 표현한 것. 불확실성이 높을수록 불순도가 높음\n",
    "### 지니 계수 Gini Impurity\n",
    "불순도를 측정하는 지표. 이를 통해 불순도가 낮다면 정확하게 예측(or 판단)할 수 있다."
   ]
  },
  {
   "cell_type": "markdown",
   "id": "57ab8ea9",
   "metadata": {},
   "source": [
    "#### 결정 트리 학습법은 기존 데이터를 기반으로 결과를 에측할 수 있어 매우 광범위하게 사용됨"
   ]
  },
  {
   "cell_type": "markdown",
   "id": "1ee1a76f",
   "metadata": {},
   "source": [
    "## 한계점"
   ]
  },
  {
   "cell_type": "markdown",
   "id": "3f467f66",
   "metadata": {},
   "source": [
    "결정 트리를 생성하는 방식에서 한계가 있다."
   ]
  },
  {
   "cell_type": "markdown",
   "id": "4b22c6df",
   "metadata": {},
   "source": [
    "# Dijkstra Algorithm\n",
    "시작점에서 도착점까지의 주어진 모든 점들 사이의 각각 가중치 합이 최소 비용으로 이동할 수 있는 거리를 찾는 것"
   ]
  },
  {
   "cell_type": "markdown",
   "id": "4a0f04c0",
   "metadata": {},
   "source": [
    "## Ex 10.3 교실 할당 문제"
   ]
  },
  {
   "cell_type": "code",
   "execution_count": 1,
   "id": "04ec7c4e",
   "metadata": {},
   "outputs": [
    {
     "name": "stdout",
     "output_type": "stream",
     "text": [
      "0 2 5 6 "
     ]
    }
   ],
   "source": [
    "srt = [1, 2, 5, 4, 6,  9, 12, 1, 11]\n",
    "fin = [3, 5, 8, 7, 9, 12, 15, 4, 14]\n",
    "\n",
    "# 첫번째 수업은 항상 선택됨\n",
    "i = 0\n",
    "print(i, end= \" \")\n",
    "\n",
    "n = len(fin)\n",
    "\n",
    "# 나머지 수업 고려\n",
    "for j in range(n):\n",
    "    # 시작시간이 이전 선택한 종료시간보다 크거나 같은 경우 선택\n",
    "    if srt[j] >= fin[i]:\n",
    "        print(j, end= \" \")\n",
    "        i = j"
   ]
  },
  {
   "cell_type": "markdown",
   "id": "d3a77003",
   "metadata": {},
   "source": [
    "## EX 10.4 점심 메뉴 할당"
   ]
  },
  {
   "cell_type": "code",
   "execution_count": 2,
   "id": "271e35f1",
   "metadata": {},
   "outputs": [
    {
     "name": "stdout",
     "output_type": "stream",
     "text": [
      "14\n",
      "['치즈돈가스', '라면', '오징어덮밥', '순두부백반']\n",
      "['Dan', 'Eun', 'Tae', 'Min']\n"
     ]
    }
   ],
   "source": [
    "menu = ['치즈돈가스', '라면', '오징어덮밥', '순두부백반']\n",
    "\n",
    "max_name = []\n",
    "max_value = []\n",
    "\n",
    "menu_result = []\n",
    "menu_flag = [False, False, False, False]    # 메뉴가 선택되었는지 여부\n",
    "\n",
    "Dan = [4, 3, 2, 1]\n",
    "Eun = [4, 2, 3, 1]\n",
    "Tae = [2, 1, 4, 3]\n",
    "Min = [3, 1, 2, 4]\n",
    "\n",
    "for i in range(4):\n",
    "    if menu_flag[i] == False:\n",
    "        if (Dan[i] >= Eun[i] or Dan[i] >= Tae[i] or Dan[i] >= Min[i]) and 'Dan' not in max_name:\n",
    "            max_name.append('Dan')\n",
    "            max_value.append(Dan[i])\n",
    "            menu_flag[i] = True\n",
    "        elif (Eun[i] >= Tae[i] or Eun[i] >= Min[i]) and 'Eun' not in max_name:\n",
    "            max_name.append('Eun')\n",
    "            max_value.append(Eun[i])\n",
    "            menu_flag[i] = True\n",
    "        elif Tae[i] > Min[i] and 'Tae' not in max_name:\n",
    "            max_name.append('Tae')\n",
    "            max_value.append(Tae[i])\n",
    "            menu_flag[i] = True\n",
    "        else:\n",
    "            max_name.append('Min')\n",
    "            max_value.append(Min[i])\n",
    "            menu_flag[i] = True\n",
    "\n",
    "    else:\n",
    "        continue\n",
    "    \n",
    "print(sum(max_value))\n",
    "print(menu)\n",
    "print(max_name)"
   ]
  },
  {
   "cell_type": "code",
   "execution_count": 3,
   "id": "8c375cf3",
   "metadata": {},
   "outputs": [
    {
     "name": "stdout",
     "output_type": "stream",
     "text": [
      "입력된 숫자들 :  [2, 4, 1, 13, 2]\n",
      "정렬 후 숫자들 : [13, 4, 2, 2, 1]\n",
      "입력된 숫자들의 합 : 22\n",
      "입력된 숫자들의 평균 : 4.4\n",
      "홀수 : 13 1 "
     ]
    }
   ],
   "source": [
    "num_list = []\n",
    "for i in range(5):\n",
    "    num = int(input(\"숫자 입력: \"))\n",
    "    num_list.append(num)\n",
    "print(\"입력된 숫자들 : \", num_list)\n",
    "\n",
    "# 내림차순 정렬\n",
    "num_list.sort(reverse=True)\n",
    "print(\"정렬 후 숫자들 : {}\".format(num_list))\n",
    "\n",
    "# 합계\n",
    "sum = sum(num_list)\n",
    "print(\"입력된 숫자들의 합 : %d\" %sum)\n",
    "\n",
    "# 평균\n",
    "average = sum/(len(num_list))\n",
    "print(f\"입력된 숫자들의 평균 : {average:.1f}\")\n",
    "\n",
    "# 홀수만 출력\n",
    "print(\"홀수 : \", end=\"\")\n",
    "for i in range(len(num_list)):\n",
    "    if num_list[i] % 2 != 0:\n",
    "        print(num_list[i], end=\" \")\n",
    "    else:\n",
    "        continue\n"
   ]
  }
 ],
 "metadata": {
  "kernelspec": {
   "display_name": "Python 3.10.4 64-bit",
   "language": "python",
   "name": "python3"
  },
  "language_info": {
   "codemirror_mode": {
    "name": "ipython",
    "version": 3
   },
   "file_extension": ".py",
   "mimetype": "text/x-python",
   "name": "python",
   "nbconvert_exporter": "python",
   "pygments_lexer": "ipython3",
   "version": "3.10.4"
  },
  "vscode": {
   "interpreter": {
    "hash": "6b5b7aa0aba1bb9fbcb25c28345c0f3a131acee02b892e75373974453de2e5ee"
   }
  }
 },
 "nbformat": 4,
 "nbformat_minor": 5
}
