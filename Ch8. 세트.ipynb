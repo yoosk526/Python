{
 "cells": [
  {
   "cell_type": "markdown",
   "id": "2a3e238a",
   "metadata": {},
   "source": [
    "# set"
   ]
  },
  {
   "cell_type": "code",
   "execution_count": 1,
   "id": "60abaa8d",
   "metadata": {},
   "outputs": [
    {
     "data": {
      "text/plain": [
       "{1, 2, 3, 5, 8, 9}"
      ]
     },
     "execution_count": 1,
     "metadata": {},
     "output_type": "execute_result"
    }
   ],
   "source": [
    "my_set = {1,2,3,3,3,5,1,9,8,8}\n",
    "my_set"
   ]
  },
  {
   "cell_type": "code",
   "execution_count": 2,
   "id": "88873a27",
   "metadata": {},
   "outputs": [
    {
     "name": "stdout",
     "output_type": "stream",
     "text": [
      "['딸기', '바나나', '포도', '바나나', '딸기']\n",
      "{'딸기', '바나나', '포도'}\n"
     ]
    }
   ],
   "source": [
    "my_list = ['딸기', '바나나', '포도', '바나나', '딸기']\n",
    "print(my_list)\n",
    "a = set(my_list)\n",
    "print(a) "
   ]
  },
  {
   "cell_type": "markdown",
   "id": "a5aea03a",
   "metadata": {},
   "source": [
    "### 집합 연산"
   ]
  },
  {
   "cell_type": "code",
   "execution_count": 3,
   "id": "93c19aa1",
   "metadata": {},
   "outputs": [],
   "source": [
    "a = {1, 3, 5, 7}\n",
    "b = {1, 2, 4, 5}"
   ]
  },
  {
   "cell_type": "code",
   "execution_count": 5,
   "id": "81553ce0",
   "metadata": {},
   "outputs": [
    {
     "data": {
      "text/plain": [
       "{1, 5}"
      ]
     },
     "execution_count": 5,
     "metadata": {},
     "output_type": "execute_result"
    }
   ],
   "source": [
    "intersection = a & b\n",
    "intersection"
   ]
  },
  {
   "cell_type": "code",
   "execution_count": 6,
   "id": "db6ec165",
   "metadata": {},
   "outputs": [
    {
     "data": {
      "text/plain": [
       "{1, 2, 3, 4, 5, 7}"
      ]
     },
     "execution_count": 6,
     "metadata": {},
     "output_type": "execute_result"
    }
   ],
   "source": [
    "union = a | b\n",
    "union"
   ]
  },
  {
   "cell_type": "code",
   "execution_count": 7,
   "id": "c7085ac2",
   "metadata": {},
   "outputs": [
    {
     "data": {
      "text/plain": [
       "{3, 7}"
      ]
     },
     "execution_count": 7,
     "metadata": {},
     "output_type": "execute_result"
    }
   ],
   "source": [
    "difference = a - b\n",
    "difference"
   ]
  },
  {
   "cell_type": "markdown",
   "id": "051b1c19",
   "metadata": {},
   "source": [
    "### 추가, 삭제"
   ]
  },
  {
   "cell_type": "markdown",
   "id": "0a2ee354",
   "metadata": {},
   "source": [
    ".add()"
   ]
  },
  {
   "cell_type": "code",
   "execution_count": 8,
   "id": "79bd12e6",
   "metadata": {},
   "outputs": [
    {
     "data": {
      "text/plain": [
       "{1, 3, 5, 7, 10}"
      ]
     },
     "execution_count": 8,
     "metadata": {},
     "output_type": "execute_result"
    }
   ],
   "source": [
    "a.add(10)\n",
    "a"
   ]
  },
  {
   "cell_type": "markdown",
   "id": "19a04966",
   "metadata": {},
   "source": [
    ".update()"
   ]
  },
  {
   "cell_type": "code",
   "execution_count": 10,
   "id": "43fd7db5",
   "metadata": {},
   "outputs": [
    {
     "data": {
      "text/plain": [
       "{1, 2, 4, 5, 13, 15}"
      ]
     },
     "execution_count": 10,
     "metadata": {},
     "output_type": "execute_result"
    }
   ],
   "source": [
    "b.update({13, 13, 15})    # 여러 요소들 한번에 update\n",
    "b"
   ]
  },
  {
   "cell_type": "markdown",
   "id": "74276993",
   "metadata": {},
   "source": [
    ".remove()"
   ]
  },
  {
   "cell_type": "code",
   "execution_count": 11,
   "id": "fa69e099",
   "metadata": {},
   "outputs": [
    {
     "data": {
      "text/plain": [
       "{1, 2, 4, 5, 15}"
      ]
     },
     "execution_count": 11,
     "metadata": {},
     "output_type": "execute_result"
    }
   ],
   "source": [
    "b.remove(13)\n",
    "b"
   ]
  },
  {
   "cell_type": "markdown",
   "id": "ad3aed75",
   "metadata": {},
   "source": [
    ".clear()"
   ]
  },
  {
   "cell_type": "code",
   "execution_count": 12,
   "id": "73c75753",
   "metadata": {},
   "outputs": [
    {
     "data": {
      "text/plain": [
       "set()"
      ]
     },
     "execution_count": 12,
     "metadata": {},
     "output_type": "execute_result"
    }
   ],
   "source": [
    "b.clear()\n",
    "b"
   ]
  }
 ],
 "metadata": {
  "kernelspec": {
   "display_name": "Python 3 (ipykernel)",
   "language": "python",
   "name": "python3"
  },
  "language_info": {
   "codemirror_mode": {
    "name": "ipython",
    "version": 3
   },
   "file_extension": ".py",
   "mimetype": "text/x-python",
   "name": "python",
   "nbconvert_exporter": "python",
   "pygments_lexer": "ipython3",
   "version": "3.9.12"
  }
 },
 "nbformat": 4,
 "nbformat_minor": 5
}
