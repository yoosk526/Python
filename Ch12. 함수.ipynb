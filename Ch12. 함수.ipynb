{
 "cells": [
  {
   "cell_type": "markdown",
   "id": "6bd18c41",
   "metadata": {},
   "source": [
    "## 내장 함수"
   ]
  },
  {
   "cell_type": "markdown",
   "id": "a4a643a0",
   "metadata": {},
   "source": [
    "- input()    \n",
    "- print()    \n",
    "- type()     \n",
    "- max()      \n",
    "- min()      \n",
    "- len()      \n",
    "- sum() \n",
    "- int()           \n",
    "- float()    \n",
    "- str()      "
   ]
  },
  {
   "cell_type": "code",
   "execution_count": 1,
   "id": "ef38420e",
   "metadata": {},
   "outputs": [
    {
     "data": {
      "text/plain": [
       "'마'"
      ]
     },
     "execution_count": 1,
     "metadata": {},
     "output_type": "execute_result"
    }
   ],
   "source": [
    "list = [\"가\", \"나\", \"다\", \"라\", \"마\"]\n",
    "max(list)"
   ]
  },
  {
   "cell_type": "code",
   "execution_count": 5,
   "id": "34594b1a",
   "metadata": {},
   "outputs": [
    {
     "data": {
      "text/plain": [
       "'a'"
      ]
     },
     "execution_count": 5,
     "metadata": {},
     "output_type": "execute_result"
    }
   ],
   "source": [
    "text = \"strawberry\"\n",
    "min(text)"
   ]
  },
  {
   "cell_type": "markdown",
   "id": "3499b4d5",
   "metadata": {},
   "source": [
    "## 지역 변수와 전역 변수"
   ]
  },
  {
   "cell_type": "markdown",
   "id": "faac2895",
   "metadata": {},
   "source": [
    "### 함수 안에서 global 로 전역 변수 선언"
   ]
  },
  {
   "cell_type": "code",
   "execution_count": 7,
   "id": "b595c9b7",
   "metadata": {},
   "outputs": [
    {
     "name": "stdout",
     "output_type": "stream",
     "text": [
      "5\n",
      "3\n"
     ]
    }
   ],
   "source": [
    "def test():\n",
    "    global a\n",
    "    a = 3\n",
    "    b = 2\n",
    "    \n",
    "    return a + b\n",
    "\n",
    "print(test())    # test 함수를 실행함과 동시에 전역 변수 선언\n",
    "print(a)         # test 함수 전에 실행하면 선언되어 있지 않기 때문에 오류 발생"
   ]
  },
  {
   "cell_type": "markdown",
   "id": "cb2946ef",
   "metadata": {},
   "source": [
    "### 함수 밖에서 global 로 전역 변수 선언\n",
    "함수 안에서 전역 변수를 사용하고 싶으면 전역 변수를 사용한다는 것을 명시해야함"
   ]
  },
  {
   "cell_type": "code",
   "execution_count": 10,
   "id": "0cf406a5",
   "metadata": {},
   "outputs": [
    {
     "name": "stdout",
     "output_type": "stream",
     "text": [
      "3\n",
      "5\n"
     ]
    }
   ],
   "source": [
    "global a\n",
    "a = 3\n",
    "\n",
    "def test():\n",
    "    global a    # 전역 변수 a를 사용함을 명시해야 함 \n",
    "    b = 2\n",
    "    \n",
    "    return a + b\n",
    "\n",
    "print(a)         # 함수 밖에서 선언되어 있으므로 출력 가능\n",
    "print(test())"
   ]
  },
  {
   "cell_type": "markdown",
   "id": "2ebd52d0",
   "metadata": {},
   "source": [
    "## 함수 메서드와 모듈"
   ]
  },
  {
   "cell_type": "markdown",
   "id": "a1d92154",
   "metadata": {},
   "source": [
    "### random 모듈"
   ]
  },
  {
   "cell_type": "code",
   "execution_count": 22,
   "id": "07345223",
   "metadata": {},
   "outputs": [],
   "source": [
    "import random"
   ]
  },
  {
   "cell_type": "markdown",
   "id": "7dd1b86e",
   "metadata": {},
   "source": [
    "#### choice"
   ]
  },
  {
   "cell_type": "code",
   "execution_count": 23,
   "id": "0e96ec4a",
   "metadata": {},
   "outputs": [
    {
     "name": "stdout",
     "output_type": "stream",
     "text": [
      "카즈하\n"
     ]
    }
   ],
   "source": [
    "text_list = random.choice([\"카즈하\", \"사쿠라\", \"김채원\", \"허윤진\"])\n",
    "print(text_list)"
   ]
  },
  {
   "cell_type": "markdown",
   "id": "11e51654",
   "metadata": {},
   "source": [
    "#### sample\n",
    "범위 안에서 랜덤으로 3개 뽑기"
   ]
  },
  {
   "cell_type": "code",
   "execution_count": 24,
   "id": "51253c23",
   "metadata": {},
   "outputs": [
    {
     "name": "stdout",
     "output_type": "stream",
     "text": [
      "[5, 15, 7]\n"
     ]
    }
   ],
   "source": [
    "num = random.sample(range(1, 30), 3)\n",
    "print(num)"
   ]
  },
  {
   "cell_type": "markdown",
   "id": "4b4e846f",
   "metadata": {},
   "source": [
    "#### randrange\n",
    "범위 안에서 랜덤으로 1개 뽑기"
   ]
  },
  {
   "cell_type": "code",
   "execution_count": 25,
   "id": "4b392847",
   "metadata": {},
   "outputs": [
    {
     "name": "stdout",
     "output_type": "stream",
     "text": [
      "8\n"
     ]
    }
   ],
   "source": [
    "num2 = random.randrange(1, 30)\n",
    "print(num2)"
   ]
  },
  {
   "cell_type": "markdown",
   "id": "ea742084",
   "metadata": {},
   "source": [
    "### math 모듈"
   ]
  },
  {
   "cell_type": "code",
   "execution_count": 26,
   "id": "bee8004a",
   "metadata": {},
   "outputs": [],
   "source": [
    "import math"
   ]
  },
  {
   "cell_type": "code",
   "execution_count": 31,
   "id": "1502fd1d",
   "metadata": {},
   "outputs": [
    {
     "name": "stdout",
     "output_type": "stream",
     "text": [
      "3.141592653589793\n",
      "4\n",
      "4\n",
      "3\n",
      "3\n",
      "4.0\n",
      "3.14\n",
      "3\n"
     ]
    }
   ],
   "source": [
    "print(math.pi)\n",
    "print(math.ceil(3.14))    # 소수점 아래 숫자를 올림하여 정수를 반환\n",
    "print(math.ceil(3.93))\n",
    "print(math.floor(3.14))   # 소수점 아래 숫자를 버림하여 정수를 반환\n",
    "print(math.floor(3.93))\n",
    "print(math.pow(2, 2))\n",
    "print(round(3.141592, 2))    # 원하는 소수점 자릿수까지 반올림을 하는 함수\n",
    "print(round(3.141592))       # 기본은 소수점 첫째자리에서 반올림"
   ]
  },
  {
   "cell_type": "markdown",
   "id": "27578bf4",
   "metadata": {},
   "source": [
    "## Homework"
   ]
  },
  {
   "cell_type": "code",
   "execution_count": 32,
   "id": "05c4abd1",
   "metadata": {},
   "outputs": [
    {
     "name": "stdout",
     "output_type": "stream",
     "text": [
      "점수를 입력하세요:95\n",
      "점수를 입력하세요:30\n",
      "점수를 입력하세요:67\n",
      "점수를 입력하세요:96\n",
      "점수를 입력하세요:45\n",
      "[95, 30, 67, 96, 45]\n",
      "입력받은 프로그래밍을 통한 문제해결 과목 5명의 평균은 67 입니다.\n"
     ]
    }
   ],
   "source": [
    "# num of students\n",
    "num = 5   \n",
    "\n",
    "# define list\n",
    "score = []\n",
    "\n",
    "for i in range(5):\n",
    "    score.append(int(input(\"점수를 입력하세요:\")))\n",
    "\n",
    "average = round(sum(score) / num)\n",
    "print(score)\n",
    "print(\"입력받은 프로그래밍을 통한 문제해결 과목 5명의 평균은 %d 입니다.\"%average)"
   ]
  },
  {
   "cell_type": "code",
   "execution_count": 6,
   "id": "baffdfe9",
   "metadata": {},
   "outputs": [
    {
     "name": "stdout",
     "output_type": "stream",
     "text": [
      "1 3 5 7 9 12 "
     ]
    }
   ],
   "source": [
    "def my_Func(list):\n",
    "    for i in range(len(list)):\n",
    "        if (list[i] == 0):\n",
    "            break\n",
    "        print(list[i], end=\" \")\n",
    "\n",
    "list = [1, 3, 5, 7, 9, 12, 0]\n",
    "my_Func(list)"
   ]
  }
 ],
 "metadata": {
  "kernelspec": {
   "display_name": "Python 3 (ipykernel)",
   "language": "python",
   "name": "python3"
  },
  "language_info": {
   "codemirror_mode": {
    "name": "ipython",
    "version": 3
   },
   "file_extension": ".py",
   "mimetype": "text/x-python",
   "name": "python",
   "nbconvert_exporter": "python",
   "pygments_lexer": "ipython3",
   "version": "3.9.12"
  },
  "vscode": {
   "interpreter": {
    "hash": "6b5b7aa0aba1bb9fbcb25c28345c0f3a131acee02b892e75373974453de2e5ee"
   }
  }
 },
 "nbformat": 4,
 "nbformat_minor": 5
}
