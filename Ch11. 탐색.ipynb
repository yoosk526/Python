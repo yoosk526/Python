{
 "cells": [
  {
   "cell_type": "markdown",
   "id": "836af61e",
   "metadata": {},
   "source": [
    "# 탐색"
   ]
  },
  {
   "cell_type": "markdown",
   "id": "1525cf97",
   "metadata": {},
   "source": [
    "컴퓨터에 저장된 방대한 자료에서 우리가 원하는 자료를 찾는 작업"
   ]
  },
  {
   "cell_type": "markdown",
   "id": "f9f673b6",
   "metadata": {},
   "source": [
    "## 탐색 알고리즘\n",
    "### 맹목적인 탐색\n",
    "아무런 정보 없이 미리 정해진 순서에 따라 노드(해)를 탐색하는 방법으로 가장 단순한 방법  \n",
    "  \n",
    "어느 쪽으로 갈지 무작위로 정하기 때문에 효율이 낮다.\n",
    "#### Example\n",
    "    - 깊이 우선 탐색\n",
    "    - 너비 우선 탐색\n",
    "    - 균일 비용 탐색\n",
    "### 경험적인 탐색\n",
    "목표노드에 대한 경험적인 정보나 지식을 사용하여 정확한 답이 아니더라도 근사치의 값을 이용하여 탐색을 빨리 할 수 있도록 해주는 방법\n",
    "#### Example\n",
    "    - A* 탐색\n",
    "    - 언덕 오르기\n",
    "    - 최상 우선 탐색"
   ]
  },
  {
   "cell_type": "markdown",
   "id": "375e280b",
   "metadata": {},
   "source": [
    "### 깊이 우선 탐색"
   ]
  },
  {
   "cell_type": "markdown",
   "id": "f0914a18",
   "metadata": {},
   "source": [
    "한 우물만 파고들어 끝을 볼 때까지 파는 것"
   ]
  },
  {
   "attachments": {},
   "cell_type": "markdown",
   "id": "4a868528",
   "metadata": {},
   "source": [
    "<img src = \"./DFS.png\" width = \"60%\" height = \"60%\" align = \"left\"> "
   ]
  },
  {
   "cell_type": "code",
   "execution_count": 26,
   "id": "7e04af63",
   "metadata": {},
   "outputs": [
    {
     "name": "stdout",
     "output_type": "stream",
     "text": [
      "{1: [2, 5], 2: [1, 3, 4], 3: [2], 4: [2], 5: [1, 6, 7], 6: [5], 7: [5]} \n",
      "\n",
      "[False, False, False, False, False, False, False] \n",
      "\n",
      "================================================================================ \n",
      "\n",
      "Visit 1 [True, False, False, False, False, False, False] \n",
      "\n",
      "parent : 1 , children :  [2, 5] , checking : \"2\" \n",
      "\n",
      "\"2\"는 방문 안했던 노드\n",
      "\n",
      "================================================================================ \n",
      "\n",
      "Visit 2 [True, True, False, False, False, False, False] \n",
      "\n",
      "parent : 2 , children :  [1, 3, 4] , checking : \"1\" \n",
      "\n",
      "parent : 2 , children :  [1, 3, 4] , checking : \"3\" \n",
      "\n",
      "\"3\"는 방문 안했던 노드\n",
      "\n",
      "================================================================================ \n",
      "\n",
      "Visit 3 [True, True, True, False, False, False, False] \n",
      "\n",
      "parent : 3 , children :  [2] , checking : \"2\" \n",
      "\n",
      "parent : 2 , children :  [1, 3, 4] , checking : \"4\" \n",
      "\n",
      "\"4\"는 방문 안했던 노드\n",
      "\n",
      "================================================================================ \n",
      "\n",
      "Visit 4 [True, True, True, True, False, False, False] \n",
      "\n",
      "parent : 4 , children :  [2] , checking : \"2\" \n",
      "\n",
      "parent : 1 , children :  [2, 5] , checking : \"5\" \n",
      "\n",
      "\"5\"는 방문 안했던 노드\n",
      "\n",
      "================================================================================ \n",
      "\n",
      "Visit 5 [True, True, True, True, True, False, False] \n",
      "\n",
      "parent : 5 , children :  [1, 6, 7] , checking : \"1\" \n",
      "\n",
      "parent : 5 , children :  [1, 6, 7] , checking : \"6\" \n",
      "\n",
      "\"6\"는 방문 안했던 노드\n",
      "\n",
      "================================================================================ \n",
      "\n",
      "Visit 6 [True, True, True, True, True, True, False] \n",
      "\n",
      "parent : 6 , children :  [5] , checking : \"5\" \n",
      "\n",
      "parent : 5 , children :  [1, 6, 7] , checking : \"7\" \n",
      "\n",
      "\"7\"는 방문 안했던 노드\n",
      "\n",
      "================================================================================ \n",
      "\n",
      "Visit 7 [True, True, True, True, True, True, True] \n",
      "\n",
      "parent : 7 , children :  [5] , checking : \"5\" \n",
      "\n",
      "================================================================================ \n",
      "\n",
      "방문 순서 :  [1, 2, 3, 4, 5, 6, 7]\n"
     ]
    }
   ],
   "source": [
    "def dfs(DFS, start, visited, result):\n",
    "    visited[start] = True\n",
    "    result.append(start)\n",
    "    print(\"=\"*80,\"\\n\")\n",
    "    print(\"Visit %d \"%(start), end =\"\")\n",
    "    print(visited[1:],\"\\n\")\n",
    "    \n",
    "    for i in DFS[start]:\n",
    "        print(\"parent :\", start, \", children : \",DFS[start], \", checking : \\\"%d\\\"\"%(i),\"\\n\")\n",
    "        if visited[i] == False:\n",
    "            print(\"\\\"%d\\\"는 방문 안했던 노드\\n\"%(i))\n",
    "            dfs(DFS, i, visited, result)\n",
    "\n",
    "DFS = {1: [2, 5],\n",
    "      2 : [1, 3, 4],\n",
    "      3 : [2],\n",
    "      4 : [2],\n",
    "      5 : [1, 6, 7],\n",
    "      6 : [5],\n",
    "      7 : [5]}\n",
    "\n",
    "visited = [False] * 8\n",
    "result = []\n",
    "\n",
    "print(DFS, \"\\n\")\n",
    "print(visited[1:],\"\\n\")\n",
    "\n",
    "dfs(DFS, 1, visited, result)\n",
    "\n",
    "print(\"=\"*80,\"\\n\")\n",
    "print(\"방문 순서 : \", result)"
   ]
  },
  {
   "cell_type": "markdown",
   "id": "4b8545d6",
   "metadata": {},
   "source": [
    "### 너비 우선 탐색"
   ]
  },
  {
   "cell_type": "markdown",
   "id": "bb799c32",
   "metadata": {},
   "source": [
    "각 단계마다 가능한 모든 경우의 상황을 다 확인하는 것"
   ]
  },
  {
   "cell_type": "markdown",
   "id": "5a6076e4",
   "metadata": {},
   "source": [
    "<img src = \"./BFS.png\" width = \"60%\" height = \"60%\" align = \"left\"> "
   ]
  },
  {
   "cell_type": "code",
   "execution_count": 12,
   "id": "664151fb",
   "metadata": {},
   "outputs": [
    {
     "name": "stdout",
     "output_type": "stream",
     "text": [
      "[1, 2, 5, 3, 4, 6, 7]\n"
     ]
    }
   ],
   "source": [
    "def bfs(BFS, start):\n",
    "    visited = []\n",
    "    queue = []\n",
    "    \n",
    "    queue.append(start)\n",
    "    \n",
    "    while queue:\n",
    "        node = queue.pop(0)            # 제일 위에 있는 node pop 하고 출력\n",
    "        if node not in visited:\n",
    "            visited.append(node)       # 방문한 node check\n",
    "            queue.extend(BFS[node])    # queue에 child node 넣음\n",
    "            \n",
    "    return visited\n",
    "\n",
    "BFS = {1: [2, 5],\n",
    "      2 : [1, 3, 4],\n",
    "      3 : [2],\n",
    "      4 : [2],\n",
    "      5 : [1, 6, 7],\n",
    "      6 : [5],\n",
    "      7 : [5]}\n",
    "\n",
    "print(bfs(BFS, 1))"
   ]
  }
 ],
 "metadata": {
  "kernelspec": {
   "display_name": "Python 3 (ipykernel)",
   "language": "python",
   "name": "python3"
  },
  "language_info": {
   "codemirror_mode": {
    "name": "ipython",
    "version": 3
   },
   "file_extension": ".py",
   "mimetype": "text/x-python",
   "name": "python",
   "nbconvert_exporter": "python",
   "pygments_lexer": "ipython3",
   "version": "3.9.12"
  }
 },
 "nbformat": 4,
 "nbformat_minor": 5
}
