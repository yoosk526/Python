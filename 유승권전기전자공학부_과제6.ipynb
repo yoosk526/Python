{
 "cells": [
  {
   "cell_type": "code",
   "execution_count": 5,
   "id": "b2805f16",
   "metadata": {},
   "outputs": [
    {
     "name": "stdout",
     "output_type": "stream",
     "text": [
      "가위/바위/보 중 하나를 입력하세요: rock\n",
      "잘못 입력하였습니다!\n",
      "가위/바위/보 중 하나를 입력하세요: 가위\n",
      "비겼습니다.\n",
      "컴퓨터는 가위 입니다.\n",
      "가위/바위/보 중 하나를 입력하세요: 바위\n",
      "비겼습니다.\n",
      "컴퓨터는 바위 입니다.\n",
      "가위/바위/보 중 하나를 입력하세요: 보\n",
      "컴퓨터가 이겼습니다.\n",
      "컴퓨터는 가위 입니다.\n",
      "가위/바위/보 중 하나를 입력하세요: 보\n",
      "당신이 이겼습니다.\n",
      "컴퓨터는 바위 입니다.\n",
      "가위/바위/보 중 하나를 입력하세요: \n",
      "과제 끝~~~\n"
     ]
    }
   ],
   "source": [
    "import random\n",
    "\n",
    "def my_game():\n",
    "    draw_flag = 0\n",
    "    wrongData_flag = 0\n",
    "    \n",
    "    game = [\"가위\", \"바위\", \"보\"]\n",
    "\n",
    "    while(1):\n",
    "        com = random.choice(game)\n",
    "        user = input(\"가위/바위/보 중 하나를 입력하세요: \")\n",
    "\n",
    "        if len(user) == 0:\n",
    "            print(\"과제 끝~~~\")\n",
    "            break\n",
    "\n",
    "        if user not in game:\n",
    "            print(\"잘못 입력하였습니다!\")\n",
    "            wrongData_flag = 1\n",
    "\n",
    "        if wrongData_flag == 0:\n",
    "            if (com == user):\n",
    "                print(\"비겼습니다.\")\n",
    "                print(\"컴퓨터는\", com, \"입니다.\")\n",
    "                draw_flag = 1\n",
    "\n",
    "            if (draw_flag == 0):\n",
    "                if (com == \"가위\"):\n",
    "                    if (user == \"바위\"):\n",
    "                        print(\"당신이 이겼습니다.\")\n",
    "                    elif (user == \"보\"):\n",
    "                        print(\"컴퓨터가 이겼습니다.\")\n",
    "                elif (com == \"바위\"):\n",
    "                    if (user == \"가위\"):\n",
    "                        print(\"컴퓨터가 이겼습니다.\")\n",
    "                    elif (user == \"보\"):\n",
    "                        print(\"당신이 이겼습니다.\")\n",
    "                elif (com == \"보\"):\n",
    "                    if (user == \"가위\"):\n",
    "                        print(\"당신이 이겼습니다.\")\n",
    "                    elif (user == \"바위\"):\n",
    "                        print(\"컴퓨터가 이겼습니다.\")\n",
    "                print(\"컴퓨터는\", com, \"입니다.\")\n",
    "        \n",
    "        wrongData_flag = 0\n",
    "        draw_flag = 0\n",
    "\n",
    "my_game()"
   ]
  },
  {
   "cell_type": "code",
   "execution_count": null,
   "id": "673b0a16",
   "metadata": {},
   "outputs": [],
   "source": []
  }
 ],
 "metadata": {
  "kernelspec": {
   "display_name": "Python 3 (ipykernel)",
   "language": "python",
   "name": "python3"
  },
  "language_info": {
   "codemirror_mode": {
    "name": "ipython",
    "version": 3
   },
   "file_extension": ".py",
   "mimetype": "text/x-python",
   "name": "python",
   "nbconvert_exporter": "python",
   "pygments_lexer": "ipython3",
   "version": "3.10.4"
  },
  "vscode": {
   "interpreter": {
    "hash": "6b5b7aa0aba1bb9fbcb25c28345c0f3a131acee02b892e75373974453de2e5ee"
   }
  }
 },
 "nbformat": 4,
 "nbformat_minor": 5
}
