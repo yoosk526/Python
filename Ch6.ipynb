{
 "cells": [
  {
   "cell_type": "markdown",
   "id": "dbc68c2e",
   "metadata": {},
   "source": [
    "# in 연산자"
   ]
  },
  {
   "cell_type": "code",
   "execution_count": 1,
   "id": "8fa4ecf8",
   "metadata": {},
   "outputs": [],
   "source": [
    "num_list = [1, 2, 3]"
   ]
  },
  {
   "cell_type": "code",
   "execution_count": 3,
   "id": "8b5bd0bb",
   "metadata": {},
   "outputs": [
    {
     "data": {
      "text/plain": [
       "True"
      ]
     },
     "execution_count": 3,
     "metadata": {},
     "output_type": "execute_result"
    }
   ],
   "source": [
    "3 in num_list"
   ]
  },
  {
   "cell_type": "code",
   "execution_count": 4,
   "id": "80182af9",
   "metadata": {},
   "outputs": [
    {
     "data": {
      "text/plain": [
       "True"
      ]
     },
     "execution_count": 4,
     "metadata": {},
     "output_type": "execute_result"
    }
   ],
   "source": [
    "'a' in 'apple'"
   ]
  },
  {
   "cell_type": "code",
   "execution_count": 5,
   "id": "ef5adc45",
   "metadata": {},
   "outputs": [
    {
     "name": "stdout",
     "output_type": "stream",
     "text": [
      "숫자 입력 : 2\n",
      "2층\n"
     ]
    }
   ],
   "source": [
    "num = int(input(\"숫자 입력 : \"))\n",
    "if num in num_list:\n",
    "    if num == 1:\n",
    "        print(\"1층\")\n",
    "    elif num == 2:\n",
    "        print(\"2층\")\n",
    "    elif num == 3:\n",
    "        print(\"3층\")\n",
    "else:\n",
    "    print(\"잘못된 입력\")"
   ]
  }
 ],
 "metadata": {
  "kernelspec": {
   "display_name": "Python 3 (ipykernel)",
   "language": "python",
   "name": "python3"
  },
  "language_info": {
   "codemirror_mode": {
    "name": "ipython",
    "version": 3
   },
   "file_extension": ".py",
   "mimetype": "text/x-python",
   "name": "python",
   "nbconvert_exporter": "python",
   "pygments_lexer": "ipython3",
   "version": "3.9.12"
  }
 },
 "nbformat": 4,
 "nbformat_minor": 5
}
